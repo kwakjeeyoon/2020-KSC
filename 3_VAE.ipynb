{
 "cells": [
  {
   "cell_type": "code",
   "execution_count": 1,
   "metadata": {},
   "outputs": [],
   "source": [
    "\n",
    "from scipy.stats import norm\n",
    "\n",
    "from tensorflow.keras.datasets import mnist\n",
    "\n",
    "import numpy as np\n",
    "import tensorflow as tf\n",
    "from tensorflow import keras\n",
    "from tensorflow.keras import layers\n",
    "from tensorflow.keras import backend as K\n",
    "from tensorflow.keras.models import Model\n",
    "from tensorflow.keras.layers import Input, Dense, Lambda, Layer, Add, Multiply\n",
    "from tensorflow.keras import Model, Sequential\n",
    "from tensorflow.keras.losses import binary_crossentropy\n",
    "import matplotlib.pyplot as plt\n",
    "\n",
    "\n",
    "\n",
    "original_dim = 27\n",
    "intermediate_dim = 12\n",
    "latent_dim = 2\n",
    "batch_size = 10\n",
    "epochs = 5\n",
    "epsilon_std = 1.0"
   ]
  },
  {
   "cell_type": "code",
   "execution_count": 2,
   "metadata": {},
   "outputs": [],
   "source": [
    "def nll(y_true, y_pred):\n",
    "    \"\"\" Negative log likelihood (Bernoulli). \"\"\"\n",
    "    # keras.losses.binary_crossentropy gives the mean\n",
    "    # over the last axis. we require the sum\n",
    "    return K.sum(K.binary_crossentropy(y_true, y_pred), axis=-1)\n",
    "\n",
    "class KLDivergenceLayer(Layer):\n",
    "    \"\"\" Identity transform layer that adds KL divergence to the final model loss.\"\"\"\n",
    "    def __init__(self, *args, **kwargs):\n",
    "        self.is_placeholder = True\n",
    "        super(KLDivergenceLayer, self).__init__(*args, **kwargs)\n",
    "    def call(self, inputs):\n",
    "        mu, log_var = inputs\n",
    "        kl_batch = - .5 * K.sum(1+log_var-K.square(mu)-K.exp(log_var), axis=-1)\n",
    "        self.add_loss(K.mean(kl_batch), inputs=inputs)\n",
    "        return inputs\n",
    "    \n",
    "decoder = Sequential([Dense(intermediate_dim, input_dim=latent_dim, activation='relu'),Dense(original_dim, activation='sigmoid')])"
   ]
  },
  {
   "cell_type": "code",
   "execution_count": 3,
   "metadata": {},
   "outputs": [],
   "source": [
    "x = Input(shape=(original_dim,))\n",
    "h = Dense(intermediate_dim, activation='relu')(x)\n",
    "z_mu = Dense(latent_dim)(h)\n",
    "z_log_var = Dense(latent_dim)(h)\n",
    "z_mu, z_log_var = KLDivergenceLayer()([z_mu, z_log_var])\n",
    "z_sigma = Lambda(lambda t: K.exp(.5*t))(z_log_var)\n",
    "\n",
    "eps = Input(tensor=K.random_normal(stddev=epsilon_std,shape=(K.shape(x)[0], latent_dim)))\n",
    "z_eps = Multiply()([z_sigma, eps])\n",
    "z = Add()([z_mu, z_eps])\n",
    "x_pred = decoder(z)\n",
    "vae = Model(inputs=[x, eps], outputs=x_pred)\n",
    "vae.compile(optimizer='rmsprop', loss=nll, metrics=['accuracy'])"
   ]
  },
  {
   "cell_type": "code",
   "execution_count": 4,
   "metadata": {},
   "outputs": [],
   "source": [
    "import pickle\n",
    "with open('ae_drop.txt','rb') as f:\n",
    "    data=pickle.load(f)"
   ]
  },
  {
   "cell_type": "code",
   "execution_count": 5,
   "metadata": {},
   "outputs": [
    {
     "name": "stdout",
     "output_type": "stream",
     "text": [
      "WARNING:tensorflow:From C:\\Anaconda\\lib\\site-packages\\tensorflow\\python\\ops\\math_grad.py:1250: add_dispatch_support.<locals>.wrapper (from tensorflow.python.ops.array_ops) is deprecated and will be removed in a future version.\n",
      "Instructions for updating:\n",
      "Use tf.where in 2.0, which has the same broadcast rule as np.where\n",
      "Train on 21526 samples, validate on 21526 samples\n",
      "Epoch 1/5\n",
      "21526/21526 [==============================] - 8s 359us/sample - loss: 12.3664 - accuracy: 0.3938 - val_loss: 11.8520 - val_accuracy: 0.4034\n",
      "Epoch 2/5\n",
      "21526/21526 [==============================] - 7s 337us/sample - loss: 11.8462 - accuracy: 0.4034 - val_loss: 11.8395 - val_accuracy: 0.4034\n",
      "Epoch 3/5\n",
      "21526/21526 [==============================] - 6s 301us/sample - loss: 11.8402 - accuracy: 0.4034 - val_loss: 11.8360 - val_accuracy: 0.4034\n",
      "Epoch 4/5\n",
      "21526/21526 [==============================] - 7s 310us/sample - loss: 11.8348 - accuracy: 0.4035 - val_loss: 11.8347 - val_accuracy: 0.4035\n",
      "Epoch 5/5\n",
      "21526/21526 [==============================] - 6s 289us/sample - loss: 11.8321 - accuracy: 0.4038 - val_loss: 11.8336 - val_accuracy: 0.4044\n"
     ]
    }
   ],
   "source": [
    "# train the VAE on MNIST digits\n",
    "\n",
    "vae.fit(data,data,shuffle=True,epochs=epochs,batch_size=batch_size,validation_data=(data, data))\n",
    "encoder = Model(x, z_mu)"
   ]
  },
  {
   "cell_type": "code",
   "execution_count": 6,
   "metadata": {},
   "outputs": [
    {
     "data": {
      "text/plain": [
       "array([-0.03009982, -0.02983421, -0.03090478, ..., -0.00920495,\n",
       "        0.01520837, -0.00609072], dtype=float32)"
      ]
     },
     "execution_count": 6,
     "metadata": {},
     "output_type": "execute_result"
    }
   ],
   "source": [
    "#         display a 2D plot of the digit classes in the latent space\n",
    "z_test = encoder.predict(data, batch_size=batch_size)\n",
    "#plt.figure(figsize=(6, 6))\n",
    "#plt.scatter(z_test[:, 0], z_test[:, 1],alpha=.4, s=3**2, cmap='viridis')\n",
    "#plt.colorbar()\n",
    "#plt.show()\n",
    "z_test[:,0]"
   ]
  },
  {
   "cell_type": "code",
   "execution_count": 7,
   "metadata": {},
   "outputs": [
    {
     "data": {
      "text/plain": [
       "array([0.24911702, 0.24339417, 0.2558358 , ..., 0.1519604 , 0.16295813,\n",
       "       0.27407905], dtype=float32)"
      ]
     },
     "execution_count": 7,
     "metadata": {},
     "output_type": "execute_result"
    }
   ],
   "source": [
    "z_test[:,1]"
   ]
  },
  {
   "cell_type": "code",
   "execution_count": 8,
   "metadata": {},
   "outputs": [],
   "source": [
    "with open('z_test_ae_drop.txt','wb') as f:\n",
    "    pickle.dump(z_test,f)\n"
   ]
  },
  {
   "cell_type": "code",
   "execution_count": null,
   "metadata": {},
   "outputs": [],
   "source": [
    "plt.scatter(z_test[:,0],z_test[:,1])\n",
    "plt.colorbar()\n",
    "plt.show()"
   ]
  }
 ],
 "metadata": {
  "kernelspec": {
   "display_name": "Python 3",
   "language": "python",
   "name": "python3"
  },
  "language_info": {
   "codemirror_mode": {
    "name": "ipython",
    "version": 3
   },
   "file_extension": ".py",
   "mimetype": "text/x-python",
   "name": "python",
   "nbconvert_exporter": "python",
   "pygments_lexer": "ipython3",
   "version": "3.7.4"
  }
 },
 "nbformat": 4,
 "nbformat_minor": 2
}
